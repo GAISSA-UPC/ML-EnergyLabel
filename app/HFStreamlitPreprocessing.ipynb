{
 "cells": [
  {
   "cell_type": "code",
   "execution_count": 24,
   "id": "f288ea97-0a0a-4872-9731-273822e8d7ea",
   "metadata": {
    "tags": []
   },
   "outputs": [],
   "source": [
    "import pandas as pd\n",
    "import ast\n",
    "\n",
    "pd.options.mode.chained_assignment = None"
   ]
  },
  {
   "cell_type": "code",
   "execution_count": 25,
   "id": "23aef743-df39-4c3c-ad9e-f300c075a473",
   "metadata": {
    "tags": []
   },
   "outputs": [
    {
     "name": "stderr",
     "output_type": "stream",
     "text": [
      "/tmp/ipykernel_34863/1212100674.py:2: DtypeWarning: Columns (6,7,8,9,23,24) have mixed types. Specify dtype option on import or set low_memory=False.\n",
      "  df = pd.read_csv('../datasets/HFTotalProcessed.csv')\n"
     ]
    }
   ],
   "source": [
    "def read_df_processed():\n",
    "    df = pd.read_csv('../datasets/HFTotalProcessed.csv')\n",
    "    df = df.drop(['Unnamed: 0.1', 'Unnamed: 0'], axis=1)\n",
    "    df['library_name'] = df['library_name'].apply(lambda libraries:  ast.literal_eval(libraries) if not isinstance(libraries, list) else libraries)\n",
    "    df['datasets'] = df['datasets'].apply(lambda datasets: [''] if pd.isnull(datasets) else [datasets] if '[' not in datasets else ast.literal_eval(datasets))\n",
    "\n",
    "    return df\n",
    "\n",
    "df = read_df_processed()\n",
    "\n",
    "def read_df_clean():\n",
    "    df = pd.read_csv('../datasets/HFClean.csv')\n",
    "    df = df.drop(['Unnamed: 0'], axis=1)\n",
    "    df['library_name'] = df['library_name'].apply(lambda libraries:  ast.literal_eval(libraries) if not isinstance(libraries, list) else libraries)\n",
    "    df['datasets'] = df['datasets'].apply(lambda datasets: [''] if pd.isnull(datasets) else [datasets] if '[' not in datasets else ast.literal_eval(datasets))\n",
    "\n",
    "    return df\n",
    "\n",
    "df_clean = read_df_clean()\n",
    "df = df[df['co2_reported'] == True]\n"
   ]
  },
  {
   "cell_type": "code",
   "execution_count": 26,
   "id": "12932bd4",
   "metadata": {},
   "outputs": [],
   "source": [
    "wanted_columns = [col for col in df.columns if not col.startswith('is_')]\n",
    "df = df[wanted_columns]"
   ]
  },
  {
   "cell_type": "code",
   "execution_count": 27,
   "id": "f1309f8c",
   "metadata": {},
   "outputs": [],
   "source": [
    "df1 = df\n",
    "df2 = df_clean\n",
    "\n",
    "# Merge the dataframes\n",
    "merged = df1.merge(df2, on='modelId', how='left', suffixes=('', '_y'))\n",
    "\n",
    "# Replace _x columns with _y columns (from HFClean.csv) when _y is not null\n",
    "for column in merged.columns:\n",
    "    if '_y' in column:\n",
    "        merged[column.replace('_y', '')] = merged[column].where(merged[column].notnull(), merged[column.replace('_y', '')])\n",
    "\n",
    "# Drop _y columns\n",
    "df = merged[df1.columns]"
   ]
  },
  {
   "cell_type": "code",
   "execution_count": 28,
   "id": "b7fc579f",
   "metadata": {},
   "outputs": [],
   "source": [
    "def combine_sources(source, auto):\n",
    "\n",
    "    if auto:\n",
    "        return 'AutoTrain'\n",
    "    if source == 'code carbon':\n",
    "        return 'Code Carbon'\n",
    "    if 'mlco2' in source or 'ML CO2' in source:\n",
    "        return 'MLCO2'\n",
    "    if 'BLOOM' in source:\n",
    "        return 'Article'\n",
    "    if 'Google Cloud' in source:\n",
    "        return 'Google Cloud Footprint'\n",
    "    \n",
    "    return 'Not Specified'\n",
    "\n",
    "def combine_location(location):\n",
    "\n",
    "    if 'East US' in location:\n",
    "        return 'East US'\n",
    "    if location == 'Frankfurt an Main, Germany (500-600 gCO2eq/kWh)':\n",
    "        return 'Frankfurt an Main, Germany'\n",
    "    return location\n",
    "\n",
    "\n",
    "\n",
    "def combine_training_type(training_type):\n",
    "\n",
    "    if 'fine' in training_type:\n",
    "        return 'fine-tuning'\n",
    "    if 'pre' in training_type:\n",
    "        return 'pretraining'\n",
    "    \n",
    "    return 'Not Specified'\n",
    "\n",
    "def create_performance_metrics(row):\n",
    "    return {'accuracy': row['accuracy'], 'f1': row['f1'], 'rouge1': row['rouge1'], 'rougeL': row['rougeL']}\n",
    "\n"
   ]
  },
  {
   "cell_type": "code",
   "execution_count": 29,
   "id": "9759120e-32ed-476e-b38c-27ae3cf28a7e",
   "metadata": {
    "tags": []
   },
   "outputs": [],
   "source": [
    "df['domain'] = df['domain'].fillna('Not Specified')\n",
    "df['training_type'] = df['training_type'].fillna('Not Specified')\n",
    "df['source'] = df['source'].fillna('Not Specified')\n",
    "df['geographical_location'] = df['geographical_location'].fillna('Not Specified')\n",
    "df['hardware_used'] = df['hardware_used'].fillna('Not Specified')\n",
    "\n",
    "df['source'] = df.apply(lambda row: combine_sources(row['source'], row['auto']), axis=1)\n",
    "df['geographical_location'] = df['geographical_location'].apply(lambda location: combine_location(location))\n",
    "df['training_type'] = df['training_type'].apply(lambda training_type: combine_training_type(training_type))\n",
    "df['size_efficency'] = df['size'] / df['co2_eq_emissions']\n",
    "df['datasets_size_efficency'] = df['datasets_size'] / df['co2_eq_emissions']\n",
    "df['downloads'] = df['downloads'].astype(int)\n",
    "df['likes'] = df['likes'].astype(int)\n",
    "df['co2_reported'] = df['co2_reported'].astype(int)\n",
    "df['created_at'] = pd.to_datetime(df['created_at'])\n",
    "df['created_at'] = df['created_at'].dt.date\n",
    "df['performance_metrics'] = df.apply(create_performance_metrics, axis=1)"
   ]
  },
  {
   "cell_type": "code",
   "execution_count": 30,
   "id": "8c2f9aa6",
   "metadata": {},
   "outputs": [],
   "source": [
    "df = df.rename(columns={'hardware_used': 'environment'})"
   ]
  },
  {
   "attachments": {},
   "cell_type": "markdown",
   "id": "34180609-5f58-4f3b-9039-fdec22904282",
   "metadata": {},
   "source": [
    "Let's delete unnecessary attributes"
   ]
  },
  {
   "cell_type": "code",
   "execution_count": 31,
   "id": "92691fbb",
   "metadata": {},
   "outputs": [],
   "source": [
    "wanted_columns = ['modelId', 'datasets', 'datasets_size', 'co2_eq_emissions', 'co2_reported', 'source', 'training_type', 'geographical_location', 'environment', 'performance_metrics', 'performance_score',\n",
    "                  'downloads', 'likes', 'library_name', 'domain', 'size', 'created_at', 'size_efficency', 'datasets_size_efficency', 'auto']\n",
    "\n",
    "df = df[wanted_columns]"
   ]
  },
  {
   "cell_type": "code",
   "execution_count": 32,
   "id": "0568bda2-8090-41f6-8c31-44893afbaae4",
   "metadata": {
    "tags": []
   },
   "outputs": [],
   "source": [
    "df.to_csv('../datasets/HFCO2.csv', index=False)"
   ]
  },
  {
   "cell_type": "code",
   "execution_count": null,
   "id": "65552ef3",
   "metadata": {},
   "outputs": [],
   "source": []
  }
 ],
 "metadata": {
  "kernelspec": {
   "display_name": "Python 3 (ipykernel)",
   "language": "python",
   "name": "python3"
  },
  "language_info": {
   "codemirror_mode": {
    "name": "ipython",
    "version": 3
   },
   "file_extension": ".py",
   "mimetype": "text/x-python",
   "name": "python",
   "nbconvert_exporter": "python",
   "pygments_lexer": "ipython3",
   "version": "3.10.11"
  }
 },
 "nbformat": 4,
 "nbformat_minor": 5
}
