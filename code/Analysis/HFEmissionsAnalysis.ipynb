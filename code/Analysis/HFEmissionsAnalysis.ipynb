{
 "cells": [
  {
   "attachments": {},
   "cell_type": "markdown",
   "id": "616fe7c2-dac2-482f-9ebb-a4de7e4108e8",
   "metadata": {},
   "source": [
    "# RQ2 Emissions Reported Analysis"
   ]
  },
  {
   "attachments": {},
   "cell_type": "markdown",
   "id": "c86bcdc8-bddc-4038-adca-018efa36e299",
   "metadata": {},
   "source": [
    "This script contains the analysis for the RQ2 Emissions Reported Analysis for the 'What is the Carbon Footprint of ML Models on\n",
    "Hugging Face? A Repository Mining Study' paper. The analysis can be replicated by executing the cells in order, please make sure the datasets referenced in read_df_processed and read_df_clean functions are in the corresponding directory."
   ]
  },
  {
   "cell_type": "code",
   "execution_count": 5,
   "id": "493d787f-809b-46f1-adf5-701a0c930de8",
   "metadata": {
    "tags": []
   },
   "outputs": [],
   "source": [
    "import pandas as pd\n",
    "import ast\n",
    "import matplotlib.pyplot as plt\n",
    "from scipy import stats\n",
    "import pandas as pd\n",
    "import numpy as np\n",
    "import matplotlib.pyplot as plt\n",
    "import seaborn as sns\n",
    "from scipy.stats import mannwhitneyu\n",
    "from scipy.stats import pearsonr\n",
    "from scipy import stats\n",
    "import matplotlib\n",
    "\n",
    "pd.options.mode.chained_assignment = None"
   ]
  },
  {
   "cell_type": "code",
   "execution_count": 6,
   "id": "7c999d45-3b27-4601-8f70-786b4172220e",
   "metadata": {
    "tags": []
   },
   "outputs": [],
   "source": [
    "width_in = 252/72.27\n",
    "\n",
    "def set_size(width_pt, fraction=1, subplots=(1, 1)):\n",
    "    \"\"\"Set figure dimensions to sit nicely in our document.\n",
    "\n",
    "    Parameters\n",
    "    ----------\n",
    "    width_pt: float\n",
    "            Document width in points\n",
    "    fraction: float, optional\n",
    "            Fraction of the width which you wish the figure to occupy\n",
    "    subplots: array-like, optional\n",
    "            The number of rows and columns of subplots.\n",
    "    Returns\n",
    "    -------\n",
    "    fig_dim: tuple\n",
    "            Dimensions of figure in inches\n",
    "    \"\"\"\n",
    "    # Width of figure (in pts)\n",
    "    fig_width_pt = width_pt * fraction\n",
    "    # Convert from pt to inches\n",
    "    inches_per_pt = 1 / 72.27\n",
    "\n",
    "    # Golden ratio to set aesthetic figure height\n",
    "    golden_ratio = (5**.5 - 1) / 2\n",
    "\n",
    "    # Figure width in inches\n",
    "    fig_width_in = fig_width_pt * inches_per_pt\n",
    "    # Figure height in inches\n",
    "    fig_height_in = fig_width_in * golden_ratio * (subplots[0] / subplots[1])\n",
    "    \n",
    "    return (fig_width_in, fig_height_in)\n"
   ]
  },
  {
   "cell_type": "code",
   "execution_count": 7,
   "id": "4d470c9c-fc91-405f-b6e1-6d9d1c8f5134",
   "metadata": {
    "tags": []
   },
   "outputs": [
    {
     "name": "stderr",
     "output_type": "stream",
     "text": [
      "/tmp/ipykernel_25753/3364451555.py:2: DtypeWarning: Columns (6,7,8,9,23,24) have mixed types. Specify dtype option on import or set low_memory=False.\n",
      "  df = pd.read_csv('../../datasets/HFTotalProcessed.csv')\n"
     ]
    }
   ],
   "source": [
    "def read_df_processed():\n",
    "    df = pd.read_csv('../../datasets/HFTotalProcessed.csv')\n",
    "    df = df.drop(['Unnamed: 0.1', 'Unnamed: 0'], axis=1)\n",
    "    df['library_name'] = df['library_name'].apply(lambda libraries:  ast.literal_eval(libraries) if not isinstance(libraries, list) else libraries)\n",
    "    df['datasets'] = df['datasets'].apply(lambda datasets: [''] if pd.isnull(datasets) else [datasets] if '[' not in datasets else ast.literal_eval(datasets))\n",
    "\n",
    "    return df\n",
    "\n",
    "df = read_df_processed()\n",
    "\n",
    "def read_df_co2():\n",
    "    df = pd.read_csv('../../datasets/HFCO2.csv')\n",
    "    df['library_name'] = df['library_name'].apply(lambda libraries:  ast.literal_eval(libraries) if not isinstance(libraries, list) else libraries)\n",
    "    df['datasets'] = df['datasets'].apply(lambda datasets: [''] if pd.isnull(datasets) else [datasets] if '[' not in datasets else ast.literal_eval(datasets))\n",
    "    df['performance_metrics'] = df['performance_metrics'].apply(lambda metrics_dict:  ast.literal_eval(metrics_dict.replace('nan', 'None')) if isinstance(metrics_dict, str) else metrics_dict)\n",
    "\n",
    "    return df\n",
    "\n",
    "df_co2 = read_df_co2()\n",
    "\n",
    "\n",
    "def read_df_clean():\n",
    "    df = pd.read_csv('../../datasets/HFClean.csv')\n",
    "    df = df.drop(['Unnamed: 0'], axis=1)\n",
    "    df['library_name'] = df['library_name'].apply(lambda libraries:  ast.literal_eval(libraries) if not isinstance(libraries, list) else libraries)\n",
    "    df['datasets'] = df['datasets'].apply(lambda datasets: [''] if pd.isnull(datasets) else [datasets] if '[' not in datasets else ast.literal_eval(datasets))\n",
    "\n",
    "    return df\n",
    "\n",
    "df_clean = read_df_clean()\n",
    "\n",
    "# Set to true if you want latex-style in the plots\n",
    "latex = False\n",
    "if latex:\n",
    "    matplotlib.rcParams.update({\n",
    "        \"pgf.texsystem\": \"pdflatex\",\n",
    "        'font.family': 'serif',\n",
    "        'text.usetex': True,\n",
    "        'pgf.rcfonts': False,\n",
    "    })"
   ]
  },
  {
   "attachments": {},
   "cell_type": "markdown",
   "id": "0795c47f-e4d7-4eca-8e1c-85c025e33041",
   "metadata": {},
   "source": [
    "## Performance metrics analysis"
   ]
  },
  {
   "attachments": {},
   "cell_type": "markdown",
   "id": "b18c6a8a-3db1-4d6d-8780-03f76c71b986",
   "metadata": {},
   "source": [
    "### All models"
   ]
  },
  {
   "cell_type": "code",
   "execution_count": 8,
   "id": "bffb06bc-7475-4aa3-906e-3ecccc654b57",
   "metadata": {
    "tags": []
   },
   "outputs": [
    {
     "name": "stderr",
     "output_type": "stream",
     "text": [
      "/tmp/ipykernel_25753/3364451555.py:2: DtypeWarning: Columns (6,7,8,9,23,24) have mixed types. Specify dtype option on import or set low_memory=False.\n",
      "  df = pd.read_csv('../../datasets/HFTotalProcessed.csv')\n"
     ]
    }
   ],
   "source": [
    "df = read_df_processed()"
   ]
  },
  {
   "cell_type": "code",
   "execution_count": 9,
   "id": "c5901ce8-5b2b-4916-b7b7-4effc6023e5e",
   "metadata": {
    "tags": []
   },
   "outputs": [],
   "source": [
    "df_energy_reported = df[df['co2_reported'] == True]\n",
    "df_energy_auto = df_co2[df_co2['auto'] == 'True']"
   ]
  },
  {
   "cell_type": "code",
   "execution_count": 10,
   "id": "9d757ea0",
   "metadata": {},
   "outputs": [
    {
     "data": {
      "text/plain": [
       "{'accuracy': None, 'f1': None, 'rouge1': 0.525404, 'rougeL': 0.501696}"
      ]
     },
     "execution_count": 10,
     "metadata": {},
     "output_type": "execute_result"
    }
   ],
   "source": [
    "df_energy_auto['performance_metrics'].iloc[0]"
   ]
  },
  {
   "cell_type": "code",
   "execution_count": 11,
   "id": "3ae32fd3-181c-49c8-aacd-7e38aaafaf51",
   "metadata": {
    "tags": []
   },
   "outputs": [
    {
     "name": "stdout",
     "output_type": "stream",
     "text": [
      "Correlation between CO2eq emissions and accuracy: 0.0032244550384418293\n",
      "P-value for accuracy: 0.9259196067684714\n",
      "\n",
      "Correlation between CO2eq emissions and f1: -0.014355126071879163\n",
      "P-value for f1: 0.6916077268076143\n",
      "\n",
      "Correlation between CO2eq emissions and rouge1: -0.01953244490294246\n",
      "P-value for rouge1: 0.7712600666419309\n",
      "\n",
      "Correlation between CO2eq emissions and rougeL: -0.05210677816280857\n",
      "P-value for rougeL: 0.4377329988626998\n",
      "\n"
     ]
    }
   ],
   "source": [
    "constant = 1e-6\n",
    "df_energy_auto['log_co2_eq_emissions'] = np.log(df_energy_auto['co2_eq_emissions'] + constant)\n",
    "\n",
    "# Calculate correlation and p-value for each performance metric\n",
    "performance_metrics = ['accuracy', 'f1', 'rouge1', 'rougeL']\n",
    "for metric in performance_metrics:\n",
    "    # Filter rows with non-missing performance metric\n",
    "    metric_values = df_energy_auto['performance_metrics'].apply(lambda x: x[metric])\n",
    "    df_filtered = df_energy_auto[~metric_values.isnull()]\n",
    "    \n",
    "    # Also filter metric_values to align with df_filtered\n",
    "    filtered_metric_values = metric_values[~metric_values.isnull()]\n",
    "\n",
    "    if not df_filtered.empty:\n",
    "        correlation, p_value = stats.spearmanr(df_filtered['co2_eq_emissions'], filtered_metric_values)\n",
    "        print(f\"Correlation between CO2eq emissions and {metric}: {correlation}\")\n",
    "        print(f\"P-value for {metric}: {p_value}\")\n",
    "    else:\n",
    "        print(f\"No data available for {metric}\")\n",
    "    print()\n"
   ]
  },
  {
   "attachments": {},
   "cell_type": "markdown",
   "id": "6cc62449-743e-4f0e-b9dd-9818fe465375",
   "metadata": {},
   "source": [
    "### Cleaned models"
   ]
  },
  {
   "cell_type": "code",
   "execution_count": 12,
   "id": "afb3ccf1-e45b-44cc-a4e8-93b184d31fce",
   "metadata": {
    "tags": []
   },
   "outputs": [
    {
     "name": "stdout",
     "output_type": "stream",
     "text": [
      "Correlation between CO2eq emissions and accuracy: 0.27272727272727276\n",
      "P-value for accuracy: 0.41714143714253127\n",
      "\n",
      "Correlation between CO2eq emissions and f1: -0.3765723339400754\n",
      "P-value for f1: 0.3178226816985236\n",
      "\n",
      "Correlation between CO2eq emissions and rouge1: 0.3214285714285715\n",
      "P-value for rouge1: 0.4820720382996776\n",
      "\n",
      "Correlation between CO2eq emissions and rougeL: 0.0\n",
      "P-value for rougeL: 1.0\n",
      "\n"
     ]
    }
   ],
   "source": [
    "\n",
    "# Log transformation of CO2eq emissions with a constant\n",
    "constant = 1e-6\n",
    "df_clean['log_co2_eq_emissions'] = np.log(df_clean['co2_eq_emissions'] + constant)\n",
    "\n",
    "# Calculate correlation and p-value for each performance metric\n",
    "performance_metrics = ['accuracy', 'f1', 'rouge1', 'rougeL']\n",
    "for metric in performance_metrics:\n",
    "    # Filter rows with non-missing performance metric\n",
    "    df_filtered = df_clean[df_clean[metric].notnull()]\n",
    "\n",
    "    if not df_filtered.empty:\n",
    "        correlation, p_value = stats.spearmanr(df_filtered['co2_eq_emissions'], df_filtered[metric])\n",
    "        print(f\"Correlation between CO2eq emissions and {metric}: {correlation}\")\n",
    "        print(f\"P-value for {metric}: {p_value}\")\n",
    "    else:\n",
    "        print(f\"No data available for {metric}\")\n",
    "    print()"
   ]
  },
  {
   "attachments": {},
   "cell_type": "markdown",
   "id": "3cc93655-9010-4208-8879-e0a10bd9601b",
   "metadata": {},
   "source": [
    "## Pretraining vs finetuning"
   ]
  },
  {
   "cell_type": "code",
   "execution_count": 13,
   "id": "353340f9-3e79-43de-bcf3-6dc8a7cc9167",
   "metadata": {
    "tags": []
   },
   "outputs": [
    {
     "data": {
      "image/png": "[encoded data removed]",
      "text/plain": [
       "<Figure size 500x300 with 1 Axes>"
      ]
     },
     "metadata": {},
     "output_type": "display_data"
    },
    {
     "name": "stdout",
     "output_type": "stream",
     "text": [
      "Mann-Whitney U test: statistic=333.0, p-value=0.02920509534997118\n"
     ]
    }
   ],
   "source": [
    "# Filter the DataFrame for models that reported energy consumption and training type\n",
    "df_filtered = df_clean.dropna(subset=['co2_eq_emissions', 'training_type'])\n",
    "\n",
    "# Box plot of energy consumption by training type\n",
    "plt.figure(figsize=(5, 3))\n",
    "sns.boxplot(data=df_filtered, x='training_type', y='co2_eq_emissions', showfliers=False)\n",
    "plt.yscale('log')\n",
    "plt.title('Impact of Training Type on Energy Consumption')\n",
    "plt.xlabel('Training Type')\n",
    "plt.ylabel('CO2eq Emissions (log scale)')\n",
    "plt.show()\n",
    "\n",
    "# Mann-Whitney U test to compare energy consumption between training types\n",
    "pretraining = df_filtered[df_filtered['training_type'] == 'pretraining']['co2_eq_emissions']\n",
    "fine_tuning = df_filtered[df_filtered['training_type'] == 'fine-tuning']['co2_eq_emissions']\n",
    "\n",
    "stat, p = mannwhitneyu(pretraining, fine_tuning)\n",
    "print(f'Mann-Whitney U test: statistic={stat}, p-value={p}')\n"
   ]
  },
  {
   "cell_type": "code",
   "execution_count": 14,
   "id": "7aa39ac1-f2d6-4e90-9b39-de92edc95add",
   "metadata": {
    "tags": []
   },
   "outputs": [
    {
     "name": "stdout",
     "output_type": "stream",
     "text": [
      "pretraining mean:  1243469.3790219603\n",
      "finetuning mean:  336.2286869880833\n",
      "pretraining median:  432.6742168\n",
      "finetuning median:  17.0\n"
     ]
    }
   ],
   "source": [
    "print('pretraining mean: ', df_filtered[df_filtered['training_type'] == 'pretraining']['co2_eq_emissions'].mean())\n",
    "print('finetuning mean: ',df_filtered[df_filtered['training_type'] == 'fine-tuning']['co2_eq_emissions'].mean())\n",
    "print('pretraining median: ', df_filtered[df_filtered['training_type'] == 'pretraining']['co2_eq_emissions'].median())\n",
    "print('finetuning median: ',df_filtered[df_filtered['training_type'] == 'fine-tuning']['co2_eq_emissions'].median())"
   ]
  },
  {
   "cell_type": "code",
   "execution_count": 15,
   "id": "73e296b5-bae4-4d4e-a370-8347a05b3f29",
   "metadata": {
    "tags": []
   },
   "outputs": [
    {
     "name": "stdout",
     "output_type": "stream",
     "text": [
      "pretraining median:  432.6742168\n",
      "finetuning median:  17.0\n",
      "pretraining + finetuning median:  228920.0\n"
     ]
    }
   ],
   "source": [
    "print('pretraining median: ', df_filtered[df_filtered['training_type'] == 'pretraining']['co2_eq_emissions'].median())\n",
    "print('finetuning median: ',df_filtered[df_filtered['training_type'] == 'fine-tuning']['co2_eq_emissions'].median())\n",
    "print('pretraining + finetuning median: ',df_filtered[df_filtered['training_type'] == 'pretraining + fine-tuning']['co2_eq_emissions'].median())"
   ]
  },
  {
   "attachments": {},
   "cell_type": "markdown",
   "id": "64644eab-cb36-48bc-9cd4-eeaeb94fffa6",
   "metadata": {
    "tags": []
   },
   "source": [
    "## Model Size & Dataset Size vs CO2e"
   ]
  },
  {
   "cell_type": "code",
   "execution_count": 16,
   "id": "3dd3ba31-4ad0-4171-952b-e8a643b5c502",
   "metadata": {
    "tags": []
   },
   "outputs": [
    {
     "data": {
      "image/png": "[encoded data removed]",
      "text/plain": [
       "<Figure size 808.454x337.849 with 2 Axes>"
      ]
     },
     "metadata": {},
     "output_type": "display_data"
    }
   ],
   "source": [
    "# Filter the DataFrame for models that reported energy consumption and size\n",
    "df_filtered = df_clean.dropna(subset=['co2_eq_emissions', 'datasets_size', 'size'])\n",
    "\n",
    "constant = 1e-6\n",
    "\n",
    "# Create a grid of subplots\n",
    "fig, axes = plt.subplots(1, 2, figsize=(set_size(512)[0]+1, set_size(512)[1]-1))\n",
    "\n",
    "# Scatter plot of energy consumption by datasets size\n",
    "sns.scatterplot(ax=axes[0], data=df_filtered, x='datasets_size', y='co2_eq_emissions')\n",
    "axes[0].set_xscale('log')\n",
    "axes[0].set_yscale('log')\n",
    "# axes[0].set_title('Carbon emissions by datasets size')\n",
    "axes[0].set_xlabel('Datasets Size (log scale)',fontsize=13)\n",
    "axes[0].set_ylabel('CO2eq Emissions (log scale)', fontsize=14)\n",
    "\n",
    "# Calculate and display the correlation coefficient and p-value for datasets size and CO2eq emissions\n",
    "corr_coef1, p_value1 = pearsonr(np.log(df_filtered['datasets_size']+constant), np.log(df_filtered['co2_eq_emissions']+constant))\n",
    "axes[0].text(0.1, 0.9, f'Correlation: {corr_coef1:.2f}', transform=axes[0].transAxes)\n",
    "\n",
    "# Scatter plot of energy consumption by model size\n",
    "sns.scatterplot(ax=axes[1], data=df_filtered, x='size', y='co2_eq_emissions')\n",
    "axes[1].set_xscale('log')\n",
    "axes[1].set_yscale('log')\n",
    "# axes[1].set_title('Carbon emissions by model size')\n",
    "axes[1].set_xlabel('Model Size (log scale)',fontsize=13)\n",
    "axes[1].set_ylabel(None)\n",
    "# axes[1].set_ylabel('CO2eq Emissions (log scale)', fontsize=14)\n",
    "\n",
    "# Calculate and display the correlation coefficient and p-value for model size and CO2eq emissions\n",
    "corr_coef2, p_value2 = pearsonr(np.log(df_filtered['size']+constant), np.log(df_filtered['co2_eq_emissions']+constant))\n",
    "axes[1].text(0.1, 0.9, f'Correlation: {corr_coef2:.2f}', transform=axes[1].transAxes)\n",
    "\n",
    "# Adjust the margin between the figures\n",
    "plt.subplots_adjust(wspace=0.3)\n",
    "sns.despine()\n",
    "# plt.savefig('model_dataset_size_carbonemissions.pdf', bbox_inches='tight')\n",
    "plt.show()\n"
   ]
  },
  {
   "attachments": {},
   "cell_type": "markdown",
   "id": "cb2874a6-98d2-4e09-bdd4-4c37f1368418",
   "metadata": {},
   "source": [
    "Checking normality for correctness of correlation"
   ]
  },
  {
   "cell_type": "code",
   "execution_count": 17,
   "id": "be937d7e-bd76-4306-9364-437d55aa9fa6",
   "metadata": {
    "tags": []
   },
   "outputs": [
    {
     "data": {
      "image/png": "[encoded data removed]",
      "text/plain": [
       "<Figure size 640x480 with 1 Axes>"
      ]
     },
     "metadata": {},
     "output_type": "display_data"
    },
    {
     "data": {
      "image/png": "[encoded data removed]",
      "text/plain": [
       "<Figure size 640x480 with 2 Axes>"
      ]
     },
     "metadata": {},
     "output_type": "display_data"
    },
    {
     "data": {
      "image/png": "[encoded data removed]",
      "text/plain": [
       "<Figure size 640x480 with 2 Axes>"
      ]
     },
     "metadata": {},
     "output_type": "display_data"
    },
    {
     "name": "stdout",
     "output_type": "stream",
     "text": [
      "Pearson correlation: 0.5604251133350532 p-value: 4.190761324292362e-05\n",
      "Spearman correlation: 0.5910603767900025 p-value: 1.2182854813542609e-05\n"
     ]
    }
   ],
   "source": [
    "# Sample data\n",
    "constant = 1e-6\n",
    "df_filtered = df_clean.dropna(subset=['co2_eq_emissions', 'datasets_size', 'size'])\n",
    "\n",
    "co2_eq_emissions = np.log(df_filtered['co2_eq_emissions']+constant)\n",
    "model_size = np.log(df_filtered['datasets_size']+constant)\n",
    "\n",
    "# co2_eq_emissions = df_filtered['co2_eq_emissions']\n",
    "# model_size = df_filtered['size']\n",
    "\n",
    "# Step 1: Visualize the relationship between the two variables using a scatter plot\n",
    "plt.scatter(co2_eq_emissions, model_size)\n",
    "plt.xlabel('CO2 Emissions')\n",
    "plt.ylabel('Model Size')\n",
    "plt.title('Scatter Plot of CO2 Emissions vs Model Size')\n",
    "plt.show()\n",
    "\n",
    "# Step 2: Check the distribution of each variable using histograms and Q-Q plots\n",
    "# Histograms\n",
    "plt.subplot(1, 2, 1)\n",
    "plt.hist(co2_eq_emissions)\n",
    "plt.title('CO2 Emissions')\n",
    "\n",
    "plt.subplot(1, 2, 2)\n",
    "plt.hist(model_size)\n",
    "plt.title('Model Size')\n",
    "\n",
    "plt.show()\n",
    "\n",
    "# Q-Q plots\n",
    "plt.subplot(1, 2, 1)\n",
    "stats.probplot(co2_eq_emissions, dist='norm', plot=plt)\n",
    "plt.title('CO2 Emissions Q-Q Plot')\n",
    "\n",
    "plt.subplot(1, 2, 2)\n",
    "stats.probplot(model_size, dist='norm', plot=plt)\n",
    "plt.title('Model Size Q-Q Plot')\n",
    "\n",
    "plt.show()\n",
    "\n",
    "# Step 3: Calculate Pearson and Spearman correlations\n",
    "pearson_corr, pearson_pvalue = stats.pearsonr(co2_eq_emissions, model_size)\n",
    "spearman_corr, spearman_pvalue = stats.spearmanr(co2_eq_emissions, model_size)\n",
    "\n",
    "print(\"Pearson correlation:\", pearson_corr, \"p-value:\", pearson_pvalue)\n",
    "print(\"Spearman correlation:\", spearman_corr, \"p-value:\", spearman_pvalue)\n"
   ]
  },
  {
   "cell_type": "code",
   "execution_count": 18,
   "id": "5da22958-ddb6-4138-acf1-c384af6b68ee",
   "metadata": {
    "tags": []
   },
   "outputs": [
    {
     "name": "stdout",
     "output_type": "stream",
     "text": [
      "Correlation log(co2e) - log(model size): 0.5614984878926341\n",
      "P-value log(co2e) - log(model size): 3.294350083195913e-05\n",
      "Correlation log(co2e) - log(data size): 0.5604251133350532\n",
      "P-value log(co2e) - log(data size): 4.190761324292362e-05\n"
     ]
    }
   ],
   "source": [
    "# Log transformation with a constant\n",
    "constant = 1e-6\n",
    "\n",
    "log_co2_eq_emissions = np.log(df_clean['co2_eq_emissions'] + constant)\n",
    "log_size = np.log(df_clean['size'] + constant)\n",
    "\n",
    "# Pearson correlation test\n",
    "correlation, p_value = stats.pearsonr(log_co2_eq_emissions, log_size)\n",
    "\n",
    "print(f\"Correlation log(co2e) - log(model size): {correlation}\")\n",
    "print(f\"P-value log(co2e) - log(model size): {p_value}\")\n",
    "\n",
    "# Drop rows containing NaN or infinite values\n",
    "df_clean_nan = df_clean.replace([np.inf, -np.inf], np.nan).dropna(subset=['co2_eq_emissions', 'datasets_size'])\n",
    "\n",
    "# Pearson correlation test\n",
    "correlation, p_value = stats.pearsonr( np.log(df_clean_nan['co2_eq_emissions'] + constant) ,  np.log(df_clean_nan['datasets_size'] + constant))\n",
    "\n",
    "print(f\"Correlation log(co2e) - log(data size): {correlation}\")\n",
    "print(f\"P-value log(co2e) - log(data size): {p_value}\")\n",
    "\n",
    "log_co2_eq_emissions = np.log(df_filtered['co2_eq_emissions'] + constant)\n",
    "log_size = np.log(df_filtered['datasets_size'] + constant)\n",
    "\n",
    "# Pearson correlation test\n",
    "\n"
   ]
  },
  {
   "attachments": {},
   "cell_type": "markdown",
   "id": "3715ae86-690e-4dfa-8c4e-9fc2b1fb9c35",
   "metadata": {
    "tags": []
   },
   "source": [
    "## Domain Analysis"
   ]
  },
  {
   "cell_type": "code",
   "execution_count": 19,
   "id": "cdaed517-6fce-4211-b18a-91e76d466432",
   "metadata": {
    "tags": []
   },
   "outputs": [
    {
     "name": "stdout",
     "output_type": "stream",
     "text": [
      "            domain          mean    median            std  count\n",
      "0  Computer Vision      7.480591  1.171724      26.794104    188\n",
      "1              NLP  21770.941347  4.988945  725242.617942   1160\n"
     ]
    },
    {
     "data": {
      "image/png": "[encoded data removed]",
      "text/plain": [
       "<Figure size 622.665x384.828 with 1 Axes>"
      ]
     },
     "metadata": {},
     "output_type": "display_data"
    }
   ],
   "source": [
    "if latex:\n",
    "    matplotlib.rcParams.update({\n",
    "        \"pgf.texsystem\": \"pdflatex\",\n",
    "        'font.family': 'serif',\n",
    "        'text.usetex': True,\n",
    "        'pgf.rcfonts': False,\n",
    "    })\n",
    "\n",
    "\n",
    "# 1. Filter models that reported energy consumption\n",
    "df_energy_reported = df[df['co2_reported'] == True]\n",
    "\n",
    "# 1.1 Filter models with 'NLP' and 'Computer Vision' domains\n",
    "df_filtered_domains = df_energy_reported[df_energy_reported['domain'].isin(['NLP', 'Computer Vision'])]\n",
    "\n",
    "# 2. Group models by domain and compute basic statistics\n",
    "domain_stats = df_filtered_domains.groupby('domain')['co2_eq_emissions'].agg(['mean', 'median', 'std', 'count']).reset_index()\n",
    "print(domain_stats)\n",
    "\n",
    "\n",
    "\n",
    "# 3. Investigate the distribution of energy consumption in each domain\n",
    "plt.figure(figsize=set_size(450))\n",
    "sns.boxplot(x='domain', y='co2_eq_emissions', data=df_filtered_domains)\n",
    "plt.yscale('log')\n",
    "plt.title('Distribution of Energy Consumption by Domain')\n",
    "plt.xlabel('Domain')\n",
    "plt.ylabel('CO2eq Emissions (log scale)')\n",
    "\n",
    "sns.despine(left=True, bottom=True) \n",
    "\n",
    "# plt.savefig('domain_carbon_emissions.pdf', bbox_inches='tight')\n",
    "plt.show()\n"
   ]
  },
  {
   "cell_type": "code",
   "execution_count": 20,
   "id": "0f34a7fc-50a0-4f77-a606-9eaab2935e71",
   "metadata": {
    "tags": []
   },
   "outputs": [],
   "source": [
    "cv_energy = df_energy_reported[df_energy_reported['domain'] == 'Computer Vision']['co2_eq_emissions']\n",
    "nlp_energy = df_energy_reported[df_energy_reported['domain'] == 'NLP']['co2_eq_emissions']\n",
    "u_stat, p_value = mannwhitneyu(cv_energy, nlp_energy, alternative='two-sided')"
   ]
  },
  {
   "attachments": {},
   "cell_type": "markdown",
   "id": "716b2439-b8ee-4a84-aa2d-645259a8754b",
   "metadata": {},
   "source": [
    "Remember, these p-values still should be corrected!! Correction on HFGeneralAnalysis.ipynb"
   ]
  },
  {
   "cell_type": "code",
   "execution_count": 21,
   "id": "cd5ddc51-2c2d-41ce-9273-33bd23437ad6",
   "metadata": {
    "tags": []
   },
   "outputs": [
    {
     "name": "stdout",
     "output_type": "stream",
     "text": [
      "Mann-Whitney U test result: U_stat = 69376.00000, p-value = 0.00000\n"
     ]
    }
   ],
   "source": [
    "print(f\"Mann-Whitney U test result: U_stat = {u_stat:.5f}, p-value = {p_value:.5f}\")"
   ]
  },
  {
   "cell_type": "code",
   "execution_count": 31,
   "id": "cbaf6502",
   "metadata": {},
   "outputs": [],
   "source": [
    "df_energy_reported['co2_eq_emissions_model_size_normalized'] = df_energy_reported['co2_eq_emissions'] / df_energy_reported['size']"
   ]
  },
  {
   "cell_type": "code",
   "execution_count": 40,
   "id": "8ec9f2f5",
   "metadata": {},
   "outputs": [
    {
     "data": {
      "text/plain": [
       "2.8670557650479784e-51"
      ]
     },
     "execution_count": 40,
     "metadata": {},
     "output_type": "execute_result"
    }
   ],
   "source": [
    "cv_energy = df_energy_reported[df_energy_reported['domain'] == 'Computer Vision']['size']\n",
    "nlp_energy = df_energy_reported[df_energy_reported['domain'] == 'NLP']['size']\n",
    "cv_energy = [energy for energy in cv_energy if not pd.isnull(energy)]\n",
    "nlp_energy = [energy for energy in nlp_energy if not pd.isnull(energy)]\n",
    "u_stat, p_value = mannwhitneyu(cv_energy, nlp_energy, alternative='two-sided')\n",
    "\n",
    "p_value"
   ]
  },
  {
   "cell_type": "code",
   "execution_count": 35,
   "id": "20a16e40",
   "metadata": {},
   "outputs": [],
   "source": [
    "cv_energy = df_energy_reported[df_energy_reported['domain'] == 'Computer Vision']['co2_eq_emissions_model_size_normalized']\n",
    "nlp_energy = df_energy_reported[df_energy_reported['domain'] == 'NLP']['co2_eq_emissions_model_size_normalized']\n",
    "cv_energy = [energy for energy in cv_energy if not pd.isnull(energy)]\n",
    "nlp_energy = [energy for energy in nlp_energy if not pd.isnull(energy)]\n",
    "u_stat, p_value = mannwhitneyu(cv_energy, nlp_energy, alternative='two-sided')"
   ]
  },
  {
   "cell_type": "code",
   "execution_count": 37,
   "id": "06ecc578",
   "metadata": {},
   "outputs": [
    {
     "name": "stdout",
     "output_type": "stream",
     "text": [
      "Mann-Whitney U test result: U_stat = 87169.00000, p-value = 0.00464\n"
     ]
    }
   ],
   "source": [
    "print(f\"Mann-Whitney U test result: U_stat = {u_stat:.5f}, p-value = {p_value:.5f}\")"
   ]
  },
  {
   "attachments": {},
   "cell_type": "markdown",
   "id": "41981989-722c-4599-bf75-3ea1a523d4af",
   "metadata": {},
   "source": [
    "### Linear regression to check NLP real influence"
   ]
  },
  {
   "cell_type": "code",
   "execution_count": 104,
   "id": "e850d22e-faf3-47ad-a269-33bb24f05c1b",
   "metadata": {
    "tags": []
   },
   "outputs": [],
   "source": [
    "from sklearn.model_selection import train_test_split\n",
    "from sklearn.linear_model import LinearRegression\n",
    "from sklearn.metrics import mean_squared_error\n",
    "from sklearn.metrics import r2_score\n",
    "import statsmodels.api as sm"
   ]
  },
  {
   "cell_type": "code",
   "execution_count": 105,
   "id": "fd82f28d-68f8-4768-b734-c28e2d3a8412",
   "metadata": {
    "tags": []
   },
   "outputs": [
    {
     "name": "stdout",
     "output_type": "stream",
     "text": [
      "Coefficients:  [-1.87226239 -2.63440391  0.77057011]\n",
      "Mean squared error: 8.44\n",
      "Coefficient of determination: 0.06\n"
     ]
    }
   ],
   "source": [
    "# Create binary variables for domain\n",
    "\n",
    "df_filtered = df_energy_reported.dropna(subset=['size', 'co2_eq_emissions'])\n",
    "\n",
    "df_filtered['is_nlp'] = df_filtered['domain'].apply(lambda x: 1 if x == 'NLP' else 0)\n",
    "df_filtered['is_cv'] = df_filtered['domain'].apply(lambda x: 1 if x == 'Computer Vision' else 0)\n",
    "\n",
    "# Normalize model size and dataset size (optional but recommended)\n",
    "df_filtered['normalized_model_size'] = np.log(df_filtered['size']+constant)\n",
    "# df_filtered['normalized_dataset_size'] = np.log1p(df_filtered['datasets_size']+constant)\n",
    "\n",
    "predictors = df_filtered[['is_nlp', 'is_cv', 'normalized_model_size']]\n",
    "target = np.log(df_filtered['co2_eq_emissions']+constant)\n",
    "\n",
    "X_train, X_test, y_train, y_test = train_test_split(predictors, target, test_size=0.2, random_state=42)\n",
    "\n",
    "reg = LinearRegression().fit(X_train, y_train)\n",
    "\n",
    "# Make predictions using the testing set\n",
    "y_pred = reg.predict(X_test)\n",
    "\n",
    "# The coefficients\n",
    "print(\"Coefficients: \", reg.coef_)\n",
    "\n",
    "# The mean squared error\n",
    "print(\"Mean squared error: %.2f\" % mean_squared_error(y_test, y_pred))\n",
    "\n",
    "# The coefficient of determination: 1 is perfect prediction\n",
    "print(\"Coefficient of determination: %.2f\" % r2_score(y_test, y_pred))\n",
    "\n"
   ]
  },
  {
   "cell_type": "code",
   "execution_count": 106,
   "id": "5aa16585-6e1a-42d0-b3f0-30a15251393a",
   "metadata": {
    "tags": []
   },
   "outputs": [
    {
     "name": "stdout",
     "output_type": "stream",
     "text": [
      "                            OLS Regression Results                            \n",
      "==============================================================================\n",
      "Dep. Variable:       co2_eq_emissions   R-squared:                       0.082\n",
      "Model:                            OLS   Adj. R-squared:                  0.080\n",
      "Method:                 Least Squares   F-statistic:                     30.89\n",
      "Date:                Sun, 18 Jun 2023   Prob (F-statistic):           4.00e-19\n",
      "Time:                        05:58:32   Log-Likelihood:                -2572.3\n",
      "No. Observations:                1038   AIC:                             5153.\n",
      "Df Residuals:                    1034   BIC:                             5172.\n",
      "Df Model:                           3                                         \n",
      "Covariance Type:            nonrobust                                         \n",
      "=========================================================================================\n",
      "                            coef    std err          t      P>|t|      [0.025      0.975]\n",
      "-----------------------------------------------------------------------------------------\n",
      "const                   -12.6119      2.736     -4.610      0.000     -17.980      -7.244\n",
      "is_nlp                   -1.8723      1.671     -1.120      0.263      -5.151       1.407\n",
      "is_cv                    -2.6344      1.689     -1.560      0.119      -5.948       0.680\n",
      "normalized_model_size     0.7706      0.106      7.290      0.000       0.563       0.978\n",
      "==============================================================================\n",
      "Omnibus:                       27.418   Durbin-Watson:                   1.962\n",
      "Prob(Omnibus):                  0.000   Jarque-Bera (JB):               31.245\n",
      "Skew:                          -0.343   Prob(JB):                     1.64e-07\n",
      "Kurtosis:                       3.503   Cond. No.                         748.\n",
      "==============================================================================\n",
      "\n",
      "Notes:\n",
      "[1] Standard Errors assume that the covariance matrix of the errors is correctly specified.\n"
     ]
    }
   ],
   "source": [
    "# Add a constant term to the predictors\n",
    "X_train_with_constant = sm.add_constant(X_train)\n",
    "\n",
    "# Fit the linear regression model using statsmodels\n",
    "model = sm.OLS(y_train, X_train_with_constant).fit()\n",
    "print(model.summary())"
   ]
  },
  {
   "cell_type": "code",
   "execution_count": 107,
   "id": "689e9df8-2cfb-465c-83ed-3ece9c81a7d5",
   "metadata": {
    "tags": []
   },
   "outputs": [
    {
     "data": {
      "text/plain": [
       "SignificanceResult(statistic=0.41456193953927845, pvalue=4.540045992805753e-55)"
      ]
     },
     "execution_count": 107,
     "metadata": {},
     "output_type": "execute_result"
    }
   ],
   "source": [
    "stats.spearmanr(df_filtered['is_nlp'], df_filtered['size'])"
   ]
  },
  {
   "attachments": {},
   "cell_type": "markdown",
   "id": "39d8f449-dee4-49b7-bbc6-83a471450d79",
   "metadata": {},
   "source": [
    "# Combination"
   ]
  },
  {
   "cell_type": "code",
   "execution_count": 108,
   "id": "9a9b9102-a888-4737-a117-e60ef33f454c",
   "metadata": {
    "tags": []
   },
   "outputs": [
    {
     "data": {
      "image/png": "[encoded data removed]",
      "text/plain": [
       "<Figure size 622.665x284.828 with 2 Axes>"
      ]
     },
     "metadata": {},
     "output_type": "display_data"
    }
   ],
   "source": [
    "import pandas as pd\n",
    "import seaborn as sns\n",
    "import matplotlib.pyplot as plt\n",
    "from scipy.stats import mannwhitneyu\n",
    "\n",
    "# Filter the DataFrame for models that reported energy consumption and training type\n",
    "df_filtered = df_clean.dropna(subset=['co2_eq_emissions', 'training_type'])\n",
    "\n",
    "# Filter models with 'NLP' and 'Computer Vision' domains\n",
    "df_filtered_domains = df_energy_reported[df_energy_reported['domain'].isin(['NLP', 'Computer Vision'])]\n",
    "\n",
    "# Create a grid of subplots\n",
    "fig, axes = plt.subplots(1, 2, figsize=(set_size(450)[0], set_size(450)[1]-1))\n",
    "\n",
    "\n",
    "# Box plot of energy consumption by training type\n",
    "sns.boxplot(ax=axes[0], data=df_filtered, x='training_type', y='co2_eq_emissions', showfliers=False, width=0.6, dodge=True)\n",
    "axes[0].set_yscale('log')\n",
    "# axes[0].set_title('Carbon Emissions by Training Type')\n",
    "axes[0].set_xlabel('Training Type')\n",
    "axes[0].set_ylabel('CO2eq Emissions (log scale)')\n",
    "training_type_labels = ['pretraining', 'finetuning', 'pretraining \\n  + finetuning']\n",
    "axes[0].set_xticklabels(training_type_labels)\n",
    "\n",
    "# Box plot of energy consumption by domain\n",
    "sns.boxplot(ax=axes[1], data=df_filtered_domains, x='domain', y='co2_eq_emissions', showfliers=False, width=0.6)\n",
    "axes[1].set_yscale('log')\n",
    "# axes[1].set_title(' Carbon Emission by Domain')\n",
    "axes[1].set_xlabel('Domain')\n",
    "axes[1].set_ylabel('CO2eq Emissions (log scale)')\n",
    "\n",
    "\n",
    "\n",
    "# Remove black lines around the figure axes\n",
    "sns.despine(left=False)\n",
    "plt.subplots_adjust(wspace=0.3)\n",
    "\n",
    "# plt.savefig('domain_trainingtype_carbon_emissions.pdf', bbox_inches='tight')\n",
    "\n",
    "plt.show()\n"
   ]
  },
  {
   "attachments": {},
   "cell_type": "markdown",
   "id": "71daa3c8-916d-42b4-9278-72936355d21b",
   "metadata": {},
   "source": [
    "# Energy efficency classification"
   ]
  },
  {
   "cell_type": "code",
   "execution_count": 109,
   "id": "53c3e727",
   "metadata": {},
   "outputs": [],
   "source": [
    "def read_df_co2_processed():\n",
    "    \"\"\"Reads processed dataset from CSV and applies necessary transformations.\"\"\"\n",
    "    df = pd.read_csv('../../datasets/HFCO2.csv')\n",
    "    \n",
    "    # Convert string representation of library list to actual list\n",
    "    df['library_name'] = df['library_name'].apply(lambda libraries:  ast.literal_eval(libraries) if not isinstance(libraries, list) else libraries)\n",
    "    \n",
    "    return df\n"
   ]
  },
  {
   "cell_type": "code",
   "execution_count": 110,
   "id": "c8bc59a7-76ec-4a9a-aaa4-ba8e15793647",
   "metadata": {
    "tags": []
   },
   "outputs": [],
   "source": [
    "df = read_df_co2_processed()\n",
    "df['datasets_size_efficency'] = df['datasets_size'] / df['co2_eq_emissions']\n"
   ]
  },
  {
   "cell_type": "code",
   "execution_count": 129,
   "id": "82a9d8d9",
   "metadata": {},
   "outputs": [
    {
     "name": "stderr",
     "output_type": "stream",
     "text": [
      "/tmp/ipykernel_36061/1812421127.py:116: RuntimeWarning: divide by zero encountered in scalar divide\n",
      "  return value / ref if metric in HIGHER_BETTER else ref / value\n"
     ]
    }
   ],
   "source": [
    "import pandas as pd\n",
    "import numpy as np\n",
    "import streamlit as st\n",
    "import ast\n",
    "\n",
    "# Weightage of different metrics for energy efficiency computation\n",
    "METRIC_WEIGHTS = {\n",
    "    'co2_eq_emissions': 0.35,\n",
    "    'size_efficency': 0.15,\n",
    "    'datasets_size_efficency': 0.15,\n",
    "    'downloads': 0.25,\n",
    "    'performance_score': 0.2\n",
    "}\n",
    "\n",
    "# Metrics where a higher value is better\n",
    "HIGHER_BETTER = [\n",
    "    'performance_score',\n",
    "    'size_efficency',\n",
    "    'datasets_size_efficency',\n",
    "    'downloads'\n",
    "]\n",
    "\n",
    "# Metrics to be scaled by a power transformation\n",
    "POWER_SCALE_METRICS = [\n",
    "    'downloads',\n",
    "    'co2_eq_emissions'\n",
    "]\n",
    "\n",
    "\n",
    "\n",
    "# Turn off pandas warning for chained assignment\n",
    "pd.options.mode.chained_assignment = None\n",
    "\n",
    "def weighted_mean(ratings, weights):\n",
    "    \"\"\"\n",
    "    Compute weighted mean of ratings.\n",
    "\n",
    "    Args:\n",
    "    ratings : list of ratings\n",
    "    weights : corresponding weights for the ratings\n",
    "\n",
    "    Returns:\n",
    "    weighted mean : weighted mean of ratings\n",
    "    \"\"\"\n",
    "    # Remove NaN values and their corresponding weights\n",
    "    not_nan_indices = np.isfinite(ratings)\n",
    "    ratings_clean = np.array(ratings)[not_nan_indices]\n",
    "    weights_clean = np.array(weights)[not_nan_indices]\n",
    "    \n",
    "    # Renormalize the weights\n",
    "    weights_clean = weights_clean / np.sum(weights_clean)\n",
    "\n",
    "    # Compute the weighted mean\n",
    "    mean = np.sum(ratings_clean * weights_clean)\n",
    "    \n",
    "    return int(round(mean))\n",
    "\n",
    "def assign_rating(index, boundaries):\n",
    "    \"\"\"\n",
    "    Assigns a rating based on index value. If index is within certain boundaries, \n",
    "    a specific rating is given.\n",
    "\n",
    "    Args:\n",
    "    index : index value for which rating is to be assigned\n",
    "    boundaries : list of boundaries for rating\n",
    "\n",
    "    Returns:\n",
    "    rating : assigned rating\n",
    "    \"\"\"\n",
    "    if index is None or pd.isnull(index):\n",
    "        return np.nan\n",
    "\n",
    "    for i, (upper, lower) in enumerate(boundaries):\n",
    "        if index <= upper and index > lower:\n",
    "            return i\n",
    "    return 4 # worst rating if index does not fall in boundaries\n",
    "\n",
    "def calculate_compound_rating(ratings, weights=None, meanings='ABCDE', mode='mean'):\n",
    "    \"\"\"\n",
    "    Calculates a compound rating based on individual ratings and their weights.\n",
    "\n",
    "    Args:\n",
    "    ratings : list of individual ratings\n",
    "    weights : list of weights corresponding to the ratings\n",
    "    meanings : string representing different ratings, default is 'ABCDE'\n",
    "    mode : method to calculate compound rating, default is 'mean'\n",
    "\n",
    "    Returns:\n",
    "    compound rating\n",
    "    \"\"\"\n",
    "    if all(x is None or pd.isna(x) for x in ratings):\n",
    "        return None\n",
    "    if weights is None:\n",
    "        weights = [1.0 / len(ratings) for _ in ratings]\n",
    "    if mode == 'mean':\n",
    "        return meanings[weighted_mean(ratings, weights)]\n",
    "\n",
    "def value_to_index(value, ref, metric):\n",
    "    \"\"\"\n",
    "    Convert a value to an index by normalizing it with a reference value.\n",
    "    If the metric is higher better, index is value divided by reference value,\n",
    "    otherwise index is reference value divided by value.\n",
    "\n",
    "    Args:\n",
    "    value : value to be converted\n",
    "    ref : reference value for normalization\n",
    "    metric : name of the metric\n",
    "\n",
    "    Returns:\n",
    "    index\n",
    "    \"\"\"\n",
    "    if pd.isnull(value) or value is None:\n",
    "        return None\n",
    "\n",
    "    try:\n",
    "        return value / ref if metric in HIGHER_BETTER else ref / value\n",
    "    except:\n",
    "        return 0\n",
    "\n",
    "\n",
    "def compute_boundaries(df, metric, metrics_ref, index=True):\n",
    "    \"\"\"\n",
    "    Compute the boundaries for assigning ratings based on the distribution of metric values.\n",
    "    Args:\n",
    "    df : DataFrame containing the metrics\n",
    "    metric : the metric for which to compute the boundaries\n",
    "    metrics_ref : reference metrics for normalization\n",
    "    index : if True, convert metric values to indices before computing boundaries\n",
    "    Returns:\n",
    "    boundaries for ratings\n",
    "    \"\"\"\n",
    "    if index:\n",
    "        metric_parameters = df[metric].apply(lambda x: value_to_index(x, metrics_ref[metric], metric))\n",
    "    else:\n",
    "        metric_parameters = df[metric]\n",
    "\n",
    "    if metric == 'co2_eq_emissions':\n",
    "        return np.nanpercentile(np.sqrt(metric_parameters), [20, 40, 60, 80])[::-1]\n",
    "    if metric == 'downloads':\n",
    "        return np.nanpercentile(metric_parameters, [60,85,94,96])[::-1]\n",
    "    else:\n",
    "        return np.nanpercentile(metric_parameters, [20, 40, 60, 80])[::-1]\n",
    "\n",
    "\n",
    "\n",
    "def load_ref_metrics(df, model_name='distilgpt2'):\n",
    "    \"\"\"\n",
    "    Load reference metrics for a specified model from the dataset. If the value is missing,\n",
    "    the median value for the metric in the dataset is used.\n",
    "    Args:\n",
    "    df : DataFrame containing the metrics\n",
    "    model_name : name of the model to use as reference\n",
    "    Returns:\n",
    "    dictionary of reference metrics\n",
    "    \"\"\"\n",
    "    metrics = list(METRIC_WEIGHTS.keys())\n",
    "    ref_model = df[df['modelId'] == model_name].iloc[0]\n",
    "\n",
    "    metrics_ref = {metric: ref_model[metric] if not pd.isnull(ref_model[metric]) else df[metric].median() for metric in metrics}\n",
    "\n",
    "    return metrics_ref\n",
    "\n",
    "\n",
    "def load_boundaries(df, metrics, metrics_ref, index=True):\n",
    "    \"\"\"\n",
    "    Compute boundaries for all metrics and convert them to intervals.\n",
    "    Args:\n",
    "    df : DataFrame containing the metrics\n",
    "    metrics : list of metrics for which to compute boundaries\n",
    "    metrics_ref : reference metrics for normalization\n",
    "    index : if True, convert metric values to indices before computing boundaries\n",
    "    Returns:\n",
    "    dictionary of boundary intervals for each metric\n",
    "    \"\"\"\n",
    "    boundaries = {metric:compute_boundaries(df, metric, metrics_ref) for metric in metrics}\n",
    "\n",
    "    max_value = float('inf')\n",
    "    min_value = 0\n",
    "\n",
    "    boundary_intervals = {}\n",
    "\n",
    "    for key, boundaries in boundaries.items():\n",
    "        intervals = [[max_value, boundaries[0]]]\n",
    "        for i in range(len(boundaries)-1):\n",
    "            intervals.append([boundaries[i], boundaries[i+1]])\n",
    "        intervals.append([boundaries[-1], min_value])\n",
    "        \n",
    "        boundary_intervals[key] = intervals\n",
    "\n",
    "    return boundary_intervals\n",
    "\n",
    "def assign_energy_label(metrics, metrics_ref, boundaries, meanings, rating_mode, index=True):\n",
    "    \"\"\"\n",
    "    Assigns an energy efficiency label based on the metrics.\n",
    "\n",
    "    Args:\n",
    "    metrics : dictionary of metrics\n",
    "    metrics_ref : reference metrics for normalization\n",
    "    boundaries : boundary intervals for each metric\n",
    "    meanings : string representing different ratings\n",
    "    rating_mode : method to calculate compound rating\n",
    "    index : if True, convert metric values to indices before assigning label\n",
    "\n",
    "    Returns:\n",
    "    compound rating and dictionary of individual ratings\n",
    "    \"\"\"\n",
    "    weights = list(METRIC_WEIGHTS.values())\n",
    "    if index:\n",
    "        metrics = {metric: value_to_index(value, metrics_ref[metric], metric) for metric, value in metrics.items()}\n",
    "\n",
    "    metrics_to_rating = (\n",
    "        {metric:\n",
    "          assign_rating(value, boundaries[metric])\n",
    "          for metric, value in metrics.items()})\n",
    "    \n",
    "    ratings = list(metrics_to_rating.values())\n",
    "    return calculate_compound_rating(ratings, weights, meanings, rating_mode), metrics_to_rating\n",
    "\n",
    "\n",
    "\n",
    "\n",
    "def add_index_metrics(df):\n",
    "    \"\"\"\n",
    "    Add index metrics to dataframe.\n",
    "\n",
    "    Args:\n",
    "    df : dataframe\n",
    "\n",
    "    Returns:\n",
    "    dataframe with index metrics\n",
    "    \"\"\"\n",
    "    metrics = list(METRIC_WEIGHTS.keys())\n",
    "    metrics_ref = load_ref_metrics(df)\n",
    "    for metric in metrics:\n",
    "        df[metric + '_index'] = df[metric].apply(lambda value: value_to_index(value, metrics_ref[metric], metric))\n",
    "    return df\n",
    "    \n",
    "\n",
    "def wrapper_assign_energy_label(row, metrics_ref, boundaries, meanings, rating_mode, index=True):\n",
    "    \"\"\"\n",
    "    Wrapper function for assign_energy_label to be used with pandas apply.\n",
    "    \"\"\"\n",
    "\n",
    "    val1, val2 = assign_energy_label(row, metrics_ref, boundaries, 'ABCDE', 'mean') \n",
    "    return pd.Series([val1, val2])\n",
    "    \n",
    "\n",
    "def assign_energy_label_to_df(df, index=True):\n",
    "    \"\"\"\n",
    "    Assigns energy efficiency labels to dataframe.\n",
    "\n",
    "    Args:\n",
    "    df : dataframe\n",
    "    index : if True, convert metric values to indices before assigning label\n",
    "\n",
    "    Returns:\n",
    "    dataframe with energy efficiency labels\n",
    "    \"\"\"\n",
    "                       \n",
    "    metrics = list(METRIC_WEIGHTS.keys())\n",
    "    metrics_ref = load_ref_metrics(df)\n",
    "    \n",
    "    boundaries = load_boundaries(df, metrics, metrics_ref)\n",
    "\n",
    "\n",
    "    df[['compound_rating', 'metrics_to_rating']] = df[metrics].apply(lambda row: wrapper_assign_energy_label(row, metrics_ref, boundaries, 'ABCDE', 'mean') , axis=1)\n",
    "    \n",
    "\n",
    "    return df\n",
    "\n",
    "df_co2 = df[df['co2_reported'] == True]\n",
    "\n",
    "df_co2 = assign_energy_label_to_df(df_co2)"
   ]
  },
  {
   "cell_type": "code",
   "execution_count": 130,
   "id": "f637a87f-b04e-46f6-8a14-aa978c509d8b",
   "metadata": {
    "tags": []
   },
   "outputs": [],
   "source": [
    "def min_max_normalize(series):\n",
    "    return (series - series.min()) / (series.max() - series.min())\n",
    "\n",
    "\n",
    "def performance_score(df):\n",
    "    metrics = ['accuracy', 'f1', 'rouge1', 'rougeL']\n",
    "    \n",
    "    df['f1'] = min_max_normalize(df['f1'])\n",
    "    df['accuracy'] = min_max_normalize(df['accuracy'])\n",
    "    df['rouge1'] = min_max_normalize(df['rouge1'])\n",
    "    df['rougeL'] = min_max_normalize(df['rougeL'])\n",
    "    \n",
    "    return df.apply(lambda row: stats.hmean([row[metric] for metric in metrics if not np.isnan(row[metric])]), axis=1)"
   ]
  },
  {
   "cell_type": "code",
   "execution_count": 131,
   "id": "ac506f7e-4b27-46f5-b937-bdbe130efa8d",
   "metadata": {
    "tags": []
   },
   "outputs": [
    {
     "data": {
      "text/plain": [
       "compound_rating\n",
       "C    813\n",
       "B    491\n",
       "D     68\n",
       "A     32\n",
       "E     15\n",
       "Name: count, dtype: int64"
      ]
     },
     "execution_count": 131,
     "metadata": {},
     "output_type": "execute_result"
    }
   ],
   "source": [
    "df_co2['compound_rating'].value_counts()"
   ]
  },
  {
   "attachments": {},
   "cell_type": "markdown",
   "id": "017fd841-c77e-403c-9cdb-c5001fcd1041",
   "metadata": {},
   "source": [
    "Below you can select the energy label you prefer to investigate the top models by downloads on that energy label"
   ]
  },
  {
   "cell_type": "code",
   "execution_count": 137,
   "id": "956f4ea0-1806-4d4f-8754-f49d63588649",
   "metadata": {
    "tags": []
   },
   "outputs": [
    {
     "data": {
      "text/html": [
       "<div>\n",
       "<style scoped>\n",
       "    .dataframe tbody tr th:only-of-type {\n",
       "        vertical-align: middle;\n",
       "    }\n",
       "\n",
       "    .dataframe tbody tr th {\n",
       "        vertical-align: top;\n",
       "    }\n",
       "\n",
       "    .dataframe thead th {\n",
       "        text-align: right;\n",
       "    }\n",
       "</style>\n",
       "<table border=\"1\" class=\"dataframe\">\n",
       "  <thead>\n",
       "    <tr style=\"text-align: right;\">\n",
       "      <th></th>\n",
       "      <th>modelId</th>\n",
       "      <th>downloads</th>\n",
       "      <th>co2_eq_emissions</th>\n",
       "      <th>size_efficency</th>\n",
       "      <th>performance_score</th>\n",
       "      <th>performance_metrics</th>\n",
       "    </tr>\n",
       "  </thead>\n",
       "  <tbody>\n",
       "    <tr>\n",
       "      <th>626</th>\n",
       "      <td>AI-image-detector</td>\n",
       "      <td>1505</td>\n",
       "      <td>7.940487</td>\n",
       "      <td>4.377521e+07</td>\n",
       "      <td>0.949933</td>\n",
       "      <td>{'accuracy': 0.942, 'f1': 0.958, 'rouge1': nan...</td>\n",
       "    </tr>\n",
       "    <tr>\n",
       "      <th>454</th>\n",
       "      <td>auditor_sentiment_finetuned</td>\n",
       "      <td>76</td>\n",
       "      <td>3.165772</td>\n",
       "      <td>1.386984e+08</td>\n",
       "      <td>0.846878</td>\n",
       "      <td>{'accuracy': 0.848937, 'f1': 0.844828435291268...</td>\n",
       "    </tr>\n",
       "    <tr>\n",
       "      <th>1338</th>\n",
       "      <td>autotrain-meme-classification-42897109437</td>\n",
       "      <td>32</td>\n",
       "      <td>1.132924</td>\n",
       "      <td>3.068164e+08</td>\n",
       "      <td>1.000000</td>\n",
       "      <td>{'accuracy': 1.0, 'f1': 1.0, 'rouge1': nan, 'r...</td>\n",
       "    </tr>\n",
       "    <tr>\n",
       "      <th>46</th>\n",
       "      <td>headline_writer</td>\n",
       "      <td>148</td>\n",
       "      <td>114.712928</td>\n",
       "      <td>4.864135e+06</td>\n",
       "      <td>0.496934</td>\n",
       "      <td>{'accuracy': nan, 'f1': nan, 'rouge1': 0.52498...</td>\n",
       "    </tr>\n",
       "    <tr>\n",
       "      <th>629</th>\n",
       "      <td>autotrain-in-class-test-demo-1659958767</td>\n",
       "      <td>4</td>\n",
       "      <td>0.150317</td>\n",
       "      <td>NaN</td>\n",
       "      <td>0.979487</td>\n",
       "      <td>{'accuracy': 0.983, 'f1': 0.976, 'rouge1': nan...</td>\n",
       "    </tr>\n",
       "    <tr>\n",
       "      <th>...</th>\n",
       "      <td>...</td>\n",
       "      <td>...</td>\n",
       "      <td>...</td>\n",
       "      <td>...</td>\n",
       "      <td>...</td>\n",
       "      <td>...</td>\n",
       "    </tr>\n",
       "    <tr>\n",
       "      <th>533</th>\n",
       "      <td>autotrain-app_review_train_roberta-1314150168</td>\n",
       "      <td>12</td>\n",
       "      <td>0.015900</td>\n",
       "      <td>3.136135e+10</td>\n",
       "      <td>0.823830</td>\n",
       "      <td>{'accuracy': 0.801, 'f1': 0.848, 'rouge1': nan...</td>\n",
       "    </tr>\n",
       "    <tr>\n",
       "      <th>530</th>\n",
       "      <td>autotrain-bert-NER-favsbot</td>\n",
       "      <td>7</td>\n",
       "      <td>0.012035</td>\n",
       "      <td>1.110560e+11</td>\n",
       "      <td>0.564143</td>\n",
       "      <td>{'accuracy': 0.71, 'f1': 0.468, 'rouge1': nan,...</td>\n",
       "    </tr>\n",
       "    <tr>\n",
       "      <th>526</th>\n",
       "      <td>autotrain-neurips_chanllenge-1287149278</td>\n",
       "      <td>15</td>\n",
       "      <td>0.039558</td>\n",
       "      <td>3.373427e+10</td>\n",
       "      <td>0.723677</td>\n",
       "      <td>{'accuracy': 0.907, 'f1': 0.602, 'rouge1': nan...</td>\n",
       "    </tr>\n",
       "    <tr>\n",
       "      <th>524</th>\n",
       "      <td>ni_model_8_19</td>\n",
       "      <td>67</td>\n",
       "      <td>7.709203</td>\n",
       "      <td>1.731035e+08</td>\n",
       "      <td>0.724602</td>\n",
       "      <td>{'accuracy': 0.849, 'f1': 0.632, 'rouge1': nan...</td>\n",
       "    </tr>\n",
       "    <tr>\n",
       "      <th>1415</th>\n",
       "      <td>autotrain-pubmed-medft-tiny-46854115566</td>\n",
       "      <td>0</td>\n",
       "      <td>0.015786</td>\n",
       "      <td>1.963898e+10</td>\n",
       "      <td>NaN</td>\n",
       "      <td>{'accuracy': nan, 'f1': nan, 'rouge1': nan, 'r...</td>\n",
       "    </tr>\n",
       "  </tbody>\n",
       "</table>\n",
       "<p>491 rows × 6 columns</p>\n",
       "</div>"
      ],
      "text/plain": [
       "                                            modelId  downloads  \\\n",
       "626                               AI-image-detector       1505   \n",
       "454                     auditor_sentiment_finetuned         76   \n",
       "1338      autotrain-meme-classification-42897109437         32   \n",
       "46                                  headline_writer        148   \n",
       "629         autotrain-in-class-test-demo-1659958767          4   \n",
       "...                                             ...        ...   \n",
       "533   autotrain-app_review_train_roberta-1314150168         12   \n",
       "530                      autotrain-bert-NER-favsbot          7   \n",
       "526         autotrain-neurips_chanllenge-1287149278         15   \n",
       "524                                   ni_model_8_19         67   \n",
       "1415        autotrain-pubmed-medft-tiny-46854115566          0   \n",
       "\n",
       "      co2_eq_emissions  size_efficency  performance_score  \\\n",
       "626           7.940487    4.377521e+07           0.949933   \n",
       "454           3.165772    1.386984e+08           0.846878   \n",
       "1338          1.132924    3.068164e+08           1.000000   \n",
       "46          114.712928    4.864135e+06           0.496934   \n",
       "629           0.150317             NaN           0.979487   \n",
       "...                ...             ...                ...   \n",
       "533           0.015900    3.136135e+10           0.823830   \n",
       "530           0.012035    1.110560e+11           0.564143   \n",
       "526           0.039558    3.373427e+10           0.723677   \n",
       "524           7.709203    1.731035e+08           0.724602   \n",
       "1415          0.015786    1.963898e+10                NaN   \n",
       "\n",
       "                                    performance_metrics  \n",
       "626   {'accuracy': 0.942, 'f1': 0.958, 'rouge1': nan...  \n",
       "454   {'accuracy': 0.848937, 'f1': 0.844828435291268...  \n",
       "1338  {'accuracy': 1.0, 'f1': 1.0, 'rouge1': nan, 'r...  \n",
       "46    {'accuracy': nan, 'f1': nan, 'rouge1': 0.52498...  \n",
       "629   {'accuracy': 0.983, 'f1': 0.976, 'rouge1': nan...  \n",
       "...                                                 ...  \n",
       "533   {'accuracy': 0.801, 'f1': 0.848, 'rouge1': nan...  \n",
       "530   {'accuracy': 0.71, 'f1': 0.468, 'rouge1': nan,...  \n",
       "526   {'accuracy': 0.907, 'f1': 0.602, 'rouge1': nan...  \n",
       "524   {'accuracy': 0.849, 'f1': 0.632, 'rouge1': nan...  \n",
       "1415  {'accuracy': nan, 'f1': nan, 'rouge1': nan, 'r...  \n",
       "\n",
       "[491 rows x 6 columns]"
      ]
     },
     "execution_count": 137,
     "metadata": {},
     "output_type": "execute_result"
    }
   ],
   "source": [
    "df_co2[df_co2['compound_rating'] == 'B'].sort_values(by='likes', ascending=False)[['modelId','downloads', 'co2_eq_emissions', 'size_efficency','performance_score', 'performance_metrics']]"
   ]
  }
 ],
 "metadata": {
  "kernelspec": {
   "display_name": "Python 3 (ipykernel)",
   "language": "python",
   "name": "python3"
  },
  "language_info": {
   "codemirror_mode": {
    "name": "ipython",
    "version": 3
   },
   "file_extension": ".py",
   "mimetype": "text/x-python",
   "name": "python",
   "nbconvert_exporter": "python",
   "pygments_lexer": "ipython3",
   "version": "3.10.11"
  }
 },
 "nbformat": 4,
 "nbformat_minor": 5
}
